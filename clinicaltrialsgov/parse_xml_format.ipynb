{
 "cells": [
  {
   "cell_type": "code",
   "execution_count": 1,
   "id": "3adfa95d",
   "metadata": {},
   "outputs": [],
   "source": [
    "import pandas as pd\n",
    "import numpy as np\n",
    "\n",
    "from collections import defaultdict\n",
    "\n",
    "import os\n",
    "import lxml\n",
    "\n",
    "import xml.etree.ElementTree as ET"
   ]
  },
  {
   "cell_type": "markdown",
   "id": "c9fed8e8",
   "metadata": {},
   "source": [
    "### Parsing XML directly (non-pandas)"
   ]
  },
  {
   "cell_type": "code",
   "execution_count": 9,
   "id": "e7ce422e",
   "metadata": {},
   "outputs": [
    {
     "name": "stdout",
     "output_type": "stream",
     "text": [
      "working on file AllPublicXML\\NCT0000xxxx\\NCT00003473.xml"
     ]
    },
    {
     "name": "stderr",
     "output_type": "stream",
     "text": [
      "IOPub message rate exceeded.\n",
      "The notebook server will temporarily stop sending output\n",
      "to the client in order to avoid crashing it.\n",
      "To change this limit, set the config variable\n",
      "`--NotebookApp.iopub_msg_rate_limit`.\n",
      "\n",
      "Current values:\n",
      "NotebookApp.iopub_msg_rate_limit=1000.0 (msgs/sec)\n",
      "NotebookApp.rate_limit_window=3.0 (secs)\n",
      "\n"
     ]
    },
    {
     "name": "stdout",
     "output_type": "stream",
     "text": [
      "working on file AllPublicXML\\NCT0002xxxx\\NCT00026416.xml"
     ]
    },
    {
     "name": "stderr",
     "output_type": "stream",
     "text": [
      "IOPub message rate exceeded.\n",
      "The notebook server will temporarily stop sending output\n",
      "to the client in order to avoid crashing it.\n",
      "To change this limit, set the config variable\n",
      "`--NotebookApp.iopub_msg_rate_limit`.\n",
      "\n",
      "Current values:\n",
      "NotebookApp.iopub_msg_rate_limit=1000.0 (msgs/sec)\n",
      "NotebookApp.rate_limit_window=3.0 (secs)\n",
      "\n"
     ]
    },
    {
     "name": "stdout",
     "output_type": "stream",
     "text": [
      "working on file AllPublicXML\\NCT0563xxxx\\NCT05630638.xml"
     ]
    }
   ],
   "source": [
    "directory = \"AllPublicXML\"\n",
    "master_dict = defaultdict(list)\n",
    "\n",
    "for folder in os.listdir(directory):\n",
    "    folder_path = os.path.join(directory, folder)\n",
    "    for index, file in enumerate(os.listdir(folder_path)):\n",
    "        f = os.path.join(folder_path, file)\n",
    "        print('\\r'+'working on file '+f, end='', flush=True)\n",
    "        \n",
    "        tree = ET.parse(f)\n",
    "        root = tree.getroot()\n",
    "        \n",
    "        #grabbing text by element \n",
    "        #really no way of knowing if the tree structure is consistent in all files\n",
    "        \n",
    "        #I guess use 'findall' if there's duplicate tags, \n",
    "        #and hopefully they are all contained in the same node\n",
    "        #love like you've never been hurt\n",
    "        \n",
    "        \n",
    "        #nct_id\n",
    "        #directly from filepath, use for accurate count since all should be here\n",
    "        master_dict['nct_id'].append(f[-15:-4])\n",
    "        \n",
    "        #all of these should only have one value\n",
    "        #phase seems to be missing for some of these, can possibly be found in titles\n",
    "        simple_grab = (['brief_title', 'official_title', 'source', 'overall_status', 'start_date', \n",
    "                        'completion_date', 'phase', 'study_type', 'enrollment'])\n",
    "        \n",
    "        #grab all \"simple\" elements\n",
    "        for element in simple_grab:\n",
    "            try:\n",
    "                master_dict[element].append(root.find(element).text)\n",
    "            except:\n",
    "                master_dict[element].append('no data')\n",
    "        \n",
    "        \n",
    "        #sponsors - have to findall for \"agency\" (additional level down) and collapse to string\n",
    "        try:\n",
    "            agency_list = [x.text for x in root.findall('./sponsors//agency')]\n",
    "            master_dict['sponsors'].append('; '.join(agency_list))\n",
    "        except:\n",
    "            master_dict['sponsors'].append('no data')\n",
    "            \n",
    "        #multiple conditions so we want to get all of them\n",
    "        try:\n",
    "            agency_list = [x.text for x in root.findall('./condition')]\n",
    "            master_dict['condition'].append('; '.join(agency_list))\n",
    "        except:\n",
    "            master_dict['condition'].append('no data')\n",
    "            \n",
    "        #intervention type - multiple, only want unique values\n",
    "        try:\n",
    "            intv_type = np.unique([x.text for x in root.findall('./intervention/intervention_type')])\n",
    "            master_dict['intervention_type'].append('; '.join(intv_type))\n",
    "        except:\n",
    "            master_dict['intervention_type'].append('no data')\n",
    "            \n",
    "        #intervention name - multiple, only want unique values\n",
    "        try:\n",
    "            intv_name = np.unique([x.text for x in root.findall('./intervention/intervention_name')])\n",
    "            master_dict['intervention_name'].append('; '.join(intv_name))\n",
    "        except:\n",
    "            master_dict['intervention_name'].append('no data')\n",
    "            \n",
    "        #multiple countries so we want to get all of them\n",
    "        try:\n",
    "            countries = [x.text for x in root.findall('./location_countries/country')]\n",
    "            master_dict['countries'].append('; '.join(countries))\n",
    "        except:\n",
    "            master_dict['countries'].append('no data')"
   ]
  },
  {
   "cell_type": "code",
   "execution_count": 10,
   "id": "a12cc3a9",
   "metadata": {},
   "outputs": [
    {
     "name": "stdout",
     "output_type": "stream",
     "text": [
      "nct_id 434564\n",
      "brief_title 434564\n",
      "official_title 434564\n",
      "source 434564\n",
      "overall_status 434564\n",
      "start_date 434564\n",
      "completion_date 434564\n",
      "phase 434564\n",
      "study_type 434564\n",
      "enrollment 434564\n",
      "sponsors 434564\n",
      "condition 434564\n",
      "intervention_type 434564\n",
      "intervention_name 434564\n",
      "countries 434564\n"
     ]
    }
   ],
   "source": [
    "for k in master_dict:\n",
    "    print(k, len(master_dict[k]))"
   ]
  },
  {
   "cell_type": "code",
   "execution_count": 12,
   "id": "619533c8",
   "metadata": {},
   "outputs": [],
   "source": [
    "master_data = pd.DataFrame(master_dict)"
   ]
  },
  {
   "cell_type": "code",
   "execution_count": 13,
   "id": "a674df01",
   "metadata": {},
   "outputs": [],
   "source": [
    "master_data.to_csv('2022_12_07 Master Clintrials.csv', index=False)"
   ]
  },
  {
   "cell_type": "code",
   "execution_count": null,
   "id": "dfa58260",
   "metadata": {},
   "outputs": [],
   "source": []
  },
  {
   "cell_type": "code",
   "execution_count": null,
   "id": "292506c0",
   "metadata": {},
   "outputs": [],
   "source": []
  },
  {
   "cell_type": "markdown",
   "id": "0af65849",
   "metadata": {},
   "source": [
    "### Creating \"Drug Index\", expand intervention_name and include nct_id"
   ]
  },
  {
   "cell_type": "code",
   "execution_count": null,
   "id": "ba6c3e97",
   "metadata": {},
   "outputs": [],
   "source": [
    "intervention = []\n",
    "intv_nct_id = []\n",
    "\n",
    "for ind, trial_intv in enumerate(master_data['intervention_name']):\n",
    "    intv_list = trial_intv.lower().split('; ')\n",
    "    intv_id = [master_data['nct_id'][ind] for x in intv_list]\n",
    "    intervention.append(intv_list)\n",
    "    intv_nct_id.append(intv_id)\n",
    "    \n",
    "intervention = [item for sublist in intervention for item in sublist]\n",
    "intv_nct_id = [item for sublist in intv_nct_id for item in sublist]"
   ]
  },
  {
   "cell_type": "code",
   "execution_count": 34,
   "id": "640f6baa",
   "metadata": {},
   "outputs": [],
   "source": [
    "drug_index = pd.DataFrame()\n",
    "drug_index['Intervention'] = intervention\n",
    "drug_index['NCT ID'] = intv_nct_id"
   ]
  },
  {
   "cell_type": "code",
   "execution_count": 36,
   "id": "9ed02d0c",
   "metadata": {},
   "outputs": [],
   "source": [
    "drug_index.to_csv('drug_index.csv', index=False)"
   ]
  },
  {
   "cell_type": "code",
   "execution_count": null,
   "id": "927bd2e5",
   "metadata": {},
   "outputs": [],
   "source": []
  },
  {
   "cell_type": "code",
   "execution_count": null,
   "id": "029ce889",
   "metadata": {},
   "outputs": [],
   "source": []
  },
  {
   "cell_type": "code",
   "execution_count": null,
   "id": "5530b386",
   "metadata": {},
   "outputs": [],
   "source": []
  },
  {
   "cell_type": "markdown",
   "id": "31938992",
   "metadata": {},
   "source": [
    "### matching drugs to a min start date"
   ]
  },
  {
   "cell_type": "markdown",
   "id": "2006edeb",
   "metadata": {},
   "source": [
    "#### what do you want here?\n",
    "\n",
    "- intervention\n",
    "- phase\n",
    "- min start date\n",
    "- second min start date (in case of error)\n",
    "- nct id from min start date\n",
    "- list of considered nct ids"
   ]
  },
  {
   "cell_type": "markdown",
   "id": "5b021b72",
   "metadata": {},
   "source": [
    "#### What are you going to do about all of these permutations of drug names..."
   ]
  },
  {
   "cell_type": "code",
   "execution_count": 39,
   "id": "9fd06120",
   "metadata": {},
   "outputs": [
    {
     "data": {
      "text/plain": [
       "352207"
      ]
     },
     "execution_count": 39,
     "metadata": {},
     "output_type": "execute_result"
    }
   ],
   "source": [
    "len(np.unique(intervention))"
   ]
  },
  {
   "cell_type": "code",
   "execution_count": null,
   "id": "87ea7ad4",
   "metadata": {},
   "outputs": [],
   "source": []
  }
 ],
 "metadata": {
  "kernelspec": {
   "display_name": "Python 3 (ipykernel)",
   "language": "python",
   "name": "python3"
  },
  "language_info": {
   "codemirror_mode": {
    "name": "ipython",
    "version": 3
   },
   "file_extension": ".py",
   "mimetype": "text/x-python",
   "name": "python",
   "nbconvert_exporter": "python",
   "pygments_lexer": "ipython3",
   "version": "3.9.7"
  },
  "toc": {
   "base_numbering": 1,
   "nav_menu": {},
   "number_sections": true,
   "sideBar": true,
   "skip_h1_title": false,
   "title_cell": "Table of Contents",
   "title_sidebar": "Contents",
   "toc_cell": false,
   "toc_position": {},
   "toc_section_display": true,
   "toc_window_display": false
  }
 },
 "nbformat": 4,
 "nbformat_minor": 5
}
