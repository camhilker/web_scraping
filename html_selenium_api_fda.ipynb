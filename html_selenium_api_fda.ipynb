{
 "cells": [
  {
   "cell_type": "code",
   "execution_count": 132,
   "metadata": {},
   "outputs": [],
   "source": [
    "import pandas as pd\n",
    "import numpy as np"
   ]
  },
  {
   "cell_type": "markdown",
   "metadata": {},
   "source": [
    "# Import Prior Data"
   ]
  },
  {
   "cell_type": "code",
   "execution_count": 133,
   "metadata": {},
   "outputs": [],
   "source": [
    "past_data = pd.read_excel('2011-2019_FDA_NME_Approvals.xlsx')"
   ]
  },
  {
   "cell_type": "code",
   "execution_count": 134,
   "metadata": {},
   "outputs": [
    {
     "data": {
      "text/plain": [
       "Index(['DrugName', 'ActiveIngredient', 'DosageForm', 'ApprovalDate',\n",
       "       'Indication', 'FirstInClass', 'AcceleratedApproval', 'OrphanDrug',\n",
       "       'MetPDUFAGoal', 'FastTrack', 'FDABreakthrough', 'FDAPriority',\n",
       "       'FirstCycleApproval', 'FirstInUS', 'ApplicationDocsURL',\n",
       "       'ApprovalSponsor', 'FilingDate', 'DrugBankURL', 'Type',\n",
       "       'Biologic Classification', 'FDASource'],\n",
       "      dtype='object')"
      ]
     },
     "execution_count": 134,
     "metadata": {},
     "output_type": "execute_result"
    }
   ],
   "source": [
    "past_data.columns"
   ]
  },
  {
   "cell_type": "markdown",
   "metadata": {},
   "source": [
    "In order to keep code reusable for extracting basic data (DrugName, ActiveIngredient, ApprovalDate, Indication) if the FDA website keeps same format, only years_to_extract should be updated. Check fda_url if link is broken after 2022.\n",
    "\n",
    "For years prior to 2021 there was a html option to open the 'Advancing Health through Innovation: New Drug Approvals' document (rather than a pdf version) which made it a lot easier to scrape. This doc is used to extract columns F-N in excel sheet. For 2021 we are forced to parse the PDF file.\n",
    "\n",
    "It was mentioned before that this could seem a bit pointless to do this for single-year data (as opposed to just grabbing it manually) which could be something to keep in mind. It seems that the FDA changes format of their reports and website quite regularly.\n",
    "\n",
    "Note:\n",
    "Tried Drugs@FDA api, does not include bool data (columns F-N) as of 4-12-22"
   ]
  },
  {
   "cell_type": "markdown",
   "metadata": {},
   "source": [
    "# CDER data"
   ]
  },
  {
   "cell_type": "markdown",
   "metadata": {},
   "source": [
    "## Basic data from main FDA website"
   ]
  },
  {
   "cell_type": "code",
   "execution_count": 135,
   "metadata": {},
   "outputs": [],
   "source": [
    "years_to_extract = ['2020', '2021']\n",
    "\n",
    "base_url = \"https://www.fda.gov/drugs/new-drugs-fda-cders-new-molecular-entities-and-new-therapeutic-biological-products/novel-drug-approvals-\""
   ]
  },
  {
   "cell_type": "code",
   "execution_count": 136,
   "metadata": {},
   "outputs": [],
   "source": [
    "extracted_data = pd.DataFrame()\n",
    "\n",
    "for year in years_to_extract:\n",
    "    # need to further parse since pandas grabs extra rows for 2020 (row 2)\n",
    "    raw = pd.read_html(base_url + year)[0]\n",
    "\n",
    "    mask = pd.notna(pd.to_numeric(raw['No.'], errors='coerce'))\n",
    "    data = raw[mask].reset_index().drop('index', axis=1)\n",
    "    \n",
    "    extracted_data = pd.concat([extracted_data, data])\n",
    "\n",
    "extracted_data = extracted_data.reset_index().drop('index', axis=1)\n",
    "\n",
    "# remove extras from approved use column\n",
    "extracted_data['FDA-approved use on approval date*'] = ([x.split('Drug')[0] for x in \n",
    "                                                         extracted_data['FDA-approved use on approval date*']])\n",
    "extracted_data['FDA-approved use on approval date*'] = ([x.split('Press')[0] for x in \n",
    "                                                         extracted_data['FDA-approved use on approval date*']])\n",
    "\n",
    "# make text uppercase\n",
    "extracted_data['FDA-approved use on approval date*'] = [x.upper() for x in extracted_data['FDA-approved use on approval date*']]\n",
    "extracted_data['Drug Name'] = [x.upper() for x in extracted_data['Drug Name']]"
   ]
  },
  {
   "cell_type": "code",
   "execution_count": 137,
   "metadata": {},
   "outputs": [
    {
     "data": {
      "text/html": [
       "<div>\n",
       "<style scoped>\n",
       "    .dataframe tbody tr th:only-of-type {\n",
       "        vertical-align: middle;\n",
       "    }\n",
       "\n",
       "    .dataframe tbody tr th {\n",
       "        vertical-align: top;\n",
       "    }\n",
       "\n",
       "    .dataframe thead th {\n",
       "        text-align: right;\n",
       "    }\n",
       "</style>\n",
       "<table border=\"1\" class=\"dataframe\">\n",
       "  <thead>\n",
       "    <tr style=\"text-align: right;\">\n",
       "      <th></th>\n",
       "      <th>No.</th>\n",
       "      <th>Drug Name</th>\n",
       "      <th>Active Ingredient</th>\n",
       "      <th>Approval Date</th>\n",
       "      <th>FDA-approved use on approval date*</th>\n",
       "    </tr>\n",
       "  </thead>\n",
       "  <tbody>\n",
       "    <tr>\n",
       "      <th>0</th>\n",
       "      <td>53.</td>\n",
       "      <td>GEMTESA</td>\n",
       "      <td>vibegron</td>\n",
       "      <td>12/23/2020</td>\n",
       "      <td>TO TREAT OVERACTIVE BLADDER</td>\n",
       "    </tr>\n",
       "    <tr>\n",
       "      <th>1</th>\n",
       "      <td>52.</td>\n",
       "      <td>EBANGA</td>\n",
       "      <td>ansuvimab-zykl</td>\n",
       "      <td>12/21/2020</td>\n",
       "      <td>TO TREAT EBOLA</td>\n",
       "    </tr>\n",
       "    <tr>\n",
       "      <th>2</th>\n",
       "      <td>51.</td>\n",
       "      <td>ORGOVYX</td>\n",
       "      <td>relugolix</td>\n",
       "      <td>12/18/2020</td>\n",
       "      <td>TO TREAT ADVANCED PROSTATE CANCER</td>\n",
       "    </tr>\n",
       "    <tr>\n",
       "      <th>3</th>\n",
       "      <td>50.</td>\n",
       "      <td>MARGENZA</td>\n",
       "      <td>margetuximab (anti-HER2 mAb</td>\n",
       "      <td>12/16/2020</td>\n",
       "      <td>TO TREAT HER2+ BREAST CANCER</td>\n",
       "    </tr>\n",
       "    <tr>\n",
       "      <th>4</th>\n",
       "      <td>49.</td>\n",
       "      <td>KLISYRI</td>\n",
       "      <td>tirbanibulin</td>\n",
       "      <td>12/14/2020</td>\n",
       "      <td>TO TREAT ACTINIC KERATOSIS OF THE FACE OR SCALP</td>\n",
       "    </tr>\n",
       "    <tr>\n",
       "      <th>...</th>\n",
       "      <td>...</td>\n",
       "      <td>...</td>\n",
       "      <td>...</td>\n",
       "      <td>...</td>\n",
       "      <td>...</td>\n",
       "    </tr>\n",
       "    <tr>\n",
       "      <th>98</th>\n",
       "      <td>5</td>\n",
       "      <td>UKONIQ</td>\n",
       "      <td>umbralisib</td>\n",
       "      <td>2/5/2021</td>\n",
       "      <td>TO TREAT MARGINAL ZONE LYMPHOMA AND FOLLICULAR...</td>\n",
       "    </tr>\n",
       "    <tr>\n",
       "      <th>99</th>\n",
       "      <td>4</td>\n",
       "      <td>TEPMETKO</td>\n",
       "      <td>tepotinib</td>\n",
       "      <td>2/3/2021</td>\n",
       "      <td>TO TREAT NON-SMALL CELL LUNG CANCER</td>\n",
       "    </tr>\n",
       "    <tr>\n",
       "      <th>100</th>\n",
       "      <td>3</td>\n",
       "      <td>LUPKYNIS</td>\n",
       "      <td>voclosporin</td>\n",
       "      <td>1/22/2021</td>\n",
       "      <td>TO TREAT LUPUS NEPHRITIS</td>\n",
       "    </tr>\n",
       "    <tr>\n",
       "      <th>101</th>\n",
       "      <td>2</td>\n",
       "      <td>CABENUVA</td>\n",
       "      <td>cabotegravir and rilpivirine (co-packaged)</td>\n",
       "      <td>1/21/2021</td>\n",
       "      <td>TO TREAT HIV</td>\n",
       "    </tr>\n",
       "    <tr>\n",
       "      <th>102</th>\n",
       "      <td>1</td>\n",
       "      <td>VERQUVO</td>\n",
       "      <td>vericiguat</td>\n",
       "      <td>1/19/2021</td>\n",
       "      <td>TO MITIGATE THE RISK OF CARDIOVASCULAR DEATH A...</td>\n",
       "    </tr>\n",
       "  </tbody>\n",
       "</table>\n",
       "<p>103 rows × 5 columns</p>\n",
       "</div>"
      ],
      "text/plain": [
       "     No. Drug Name                           Active Ingredient Approval Date  \\\n",
       "0    53.   GEMTESA                                    vibegron    12/23/2020   \n",
       "1    52.    EBANGA                              ansuvimab-zykl    12/21/2020   \n",
       "2    51.   ORGOVYX                                   relugolix    12/18/2020   \n",
       "3    50.  MARGENZA                 margetuximab (anti-HER2 mAb    12/16/2020   \n",
       "4    49.   KLISYRI                                tirbanibulin    12/14/2020   \n",
       "..   ...       ...                                         ...           ...   \n",
       "98     5    UKONIQ                                  umbralisib      2/5/2021   \n",
       "99     4  TEPMETKO                                   tepotinib      2/3/2021   \n",
       "100    3  LUPKYNIS                                 voclosporin     1/22/2021   \n",
       "101    2  CABENUVA  cabotegravir and rilpivirine (co-packaged)     1/21/2021   \n",
       "102    1   VERQUVO                                  vericiguat     1/19/2021   \n",
       "\n",
       "                    FDA-approved use on approval date*  \n",
       "0                          TO TREAT OVERACTIVE BLADDER  \n",
       "1                                       TO TREAT EBOLA  \n",
       "2                    TO TREAT ADVANCED PROSTATE CANCER  \n",
       "3                         TO TREAT HER2+ BREAST CANCER  \n",
       "4      TO TREAT ACTINIC KERATOSIS OF THE FACE OR SCALP  \n",
       "..                                                 ...  \n",
       "98   TO TREAT MARGINAL ZONE LYMPHOMA AND FOLLICULAR...  \n",
       "99                 TO TREAT NON-SMALL CELL LUNG CANCER  \n",
       "100                           TO TREAT LUPUS NEPHRITIS  \n",
       "101                                       TO TREAT HIV  \n",
       "102  TO MITIGATE THE RISK OF CARDIOVASCULAR DEATH A...  \n",
       "\n",
       "[103 rows x 5 columns]"
      ]
     },
     "execution_count": 137,
     "metadata": {},
     "output_type": "execute_result"
    }
   ],
   "source": [
    "extracted_data"
   ]
  },
  {
   "cell_type": "markdown",
   "metadata": {},
   "source": [
    "## Boolean Data (columns F-N in 2011-2019_FDA_NME_Approvals.xlsx)"
   ]
  },
  {
   "cell_type": "markdown",
   "metadata": {},
   "source": [
    "### PARSE BOOL DATA FROM HTML FOR 2020"
   ]
  },
  {
   "cell_type": "markdown",
   "metadata": {},
   "source": [
    "For 2020 (and prior years), the 'New Drug Therapy Approvals 2020' doc was available either as a html or pdf. <br><br> **As of 4/13/22 the FDA website DID NOT provide a html version for 2021 data, only a PDF.** <br><br> This task is much easier and more reliable to do if the html version is provided, but I will demonstrate how to do both: html for 2020 and pdf for 2021"
   ]
  },
  {
   "cell_type": "code",
   "execution_count": 138,
   "metadata": {},
   "outputs": [],
   "source": [
    "html_url = 'https://www.fda.gov/drugs/new-drugs-fda-cders-new-molecular-entities-and-new-therapeutic-biological-products/new-drug-therapy-approvals-2020'"
   ]
  },
  {
   "cell_type": "code",
   "execution_count": 139,
   "metadata": {},
   "outputs": [],
   "source": [
    "bool_2020 = pd.read_html(html_url)[1].replace('X', 1).fillna(0)\n",
    "\n",
    "b_mask = [True if type(x) == int else False for x in bool_2020['1st U.S.']]\n",
    "bool_2020 = bool_2020[b_mask].reset_index().drop('index', axis=1)\n",
    "\n",
    "# uppercase trade name\n",
    "bool_2020['Trade Name'] = [x.upper() for x in bool_2020['Trade Name']]"
   ]
  },
  {
   "cell_type": "markdown",
   "metadata": {},
   "source": [
    "### PARSE PDF FOR 2021"
   ]
  },
  {
   "cell_type": "markdown",
   "metadata": {},
   "source": [
    "Here's where it get's a little weird. In order to extract the data we want for columns F-N, we're going to string match the text-ified PDFs until we find where the drugs in each column category are listed. Category designations are identified by the string match \"were: \" to indicate where the drugs that fall into each category are listed. This works for 2020 and 2021, but it may not be consistent in later years. See raw PDF files for detail.\n",
    "<br>\n",
    "<br>\n",
    "##### The cleanest way:\n",
    "PyPDF2 kind of works to extract the text, but sadly it misses precisely the text we are looking for. You must use pdftotext if you want to do it this way.\n",
    "<br>\n",
    "<br>\n",
    "##### The simplest way:\n",
    "Use subprocess and requests to decode and extract the text in the PDF as a string without actually downloading the file. I recommend pasting the raw output into sublime text for help decoding"
   ]
  },
  {
   "cell_type": "markdown",
   "metadata": {},
   "source": [
    "#### String matches for each column:\n",
    "<br><br><br>\n",
    "\n",
    "|Column Name|Excel Column|String Match after parsing pdf|\n",
    "|-----------|---------------------|------------|\n",
    "|FirstInClass|F|' in 2021 that CDER identified as first-in-\\r\\n class'|\n",
    "|AcceleratedApproval|G|' Accelerated\\r\\nCDER identified 14 of the   Approval'|\n",
    "|OrphanDrug|H|'approved in 2021 with the orphan drug\\r\\ndesignation'|\n",
    "|MetPDUFGoal|I|'roved in 2021 on or before their PDUFA goal\\r\\ndates'|\n",
    "|FastTrack|J|'s.\\r\\n\\r\\n     Drugs designated with Fast Track status'|\n",
    "|FDABreakthrough|K|'\\nDrugs designated with Breakthrough therapy status'|\n",
    "|FDAPriority|L|'he list below.\\r\\n\\r\\nDrugs designated Priority Review'|\n",
    "|FirstCycleApproval|M|'   Novel drugs approved in 2021 on the first cycle'|\n",
    "|FirstInUS|N|' drugs of 2021 approved first in the United States'|\n",
    "\n",
    "\n",
    "<br><br><br>\n",
    "**There's also a designation for \"2021 that used at least one expedited\\r\\n program\", does this fit anywhere??**"
   ]
  },
  {
   "cell_type": "code",
   "execution_count": 140,
   "metadata": {},
   "outputs": [],
   "source": [
    "from subprocess import Popen, PIPE\n",
    "import requests\n",
    "import pdftotext"
   ]
  },
  {
   "cell_type": "code",
   "execution_count": 141,
   "metadata": {},
   "outputs": [],
   "source": [
    "command = ['pdftotext', '-layout', '-', '-']\n",
    "\n",
    "p = Popen(command, stdout=PIPE, stdin=PIPE)\n",
    "r = requests.get('https://www.fda.gov/media/155227/download')\n",
    "\n",
    "output = p.communicate(input=r.content)[0].decode().replace('      ', '')"
   ]
  },
  {
   "cell_type": "code",
   "execution_count": 142,
   "metadata": {},
   "outputs": [],
   "source": [
    "# pay close attention to the indexing here!!! \n",
    "# you want to make sure that the first element in cat_names matches the first element in cat_vals, \n",
    "# or else you risk messing up the entire thing\n",
    "\n",
    "cat_names = [x[-50:] for x in output.split(' were:')][:-1]\n",
    "cat_vals = [x[:600].upper() for x in output.split('were:')][1:]"
   ]
  },
  {
   "cell_type": "code",
   "execution_count": 143,
   "metadata": {},
   "outputs": [],
   "source": [
    "ph_df = pd.DataFrame(columns=['Drug Name'] + cat_names)\n",
    "drugs_2021 = [x for i, x  in enumerate(extracted_data['Drug Name']) if extracted_data['Approval Date'][i][-4:] == '2021']\n",
    "\n",
    "for drug in drugs_2021:\n",
    "    row = [drug]\n",
    "    for cat in cat_vals:\n",
    "        if drug in cat:\n",
    "            row.append(1)\n",
    "        else:\n",
    "            row.append(0)\n",
    "    ph_df.loc[len(ph_df)] = row\n",
    "    \n",
    "bool_2021 = ph_df.drop('2021 that used at least one expedited\\r\\n    program', axis=1)\n",
    "\n",
    "# make sure column order matches!\n",
    "bool_2021 = bool_2021.rename(columns=dict(zip(bool_2021.columns, bool_2020.columns)))"
   ]
  },
  {
   "cell_type": "markdown",
   "metadata": {},
   "source": [
    "### Bool data for 2020 and 2021 is complete here"
   ]
  },
  {
   "cell_type": "code",
   "execution_count": 144,
   "metadata": {},
   "outputs": [],
   "source": [
    "full_bool = pd.concat([bool_2020, bool_2021])"
   ]
  },
  {
   "cell_type": "code",
   "execution_count": 145,
   "metadata": {},
   "outputs": [
    {
     "data": {
      "text/html": [
       "<div>\n",
       "<style scoped>\n",
       "    .dataframe tbody tr th:only-of-type {\n",
       "        vertical-align: middle;\n",
       "    }\n",
       "\n",
       "    .dataframe tbody tr th {\n",
       "        vertical-align: top;\n",
       "    }\n",
       "\n",
       "    .dataframe thead th {\n",
       "        text-align: right;\n",
       "    }\n",
       "</style>\n",
       "<table border=\"1\" class=\"dataframe\">\n",
       "  <thead>\n",
       "    <tr style=\"text-align: right;\">\n",
       "      <th></th>\n",
       "      <th>No.</th>\n",
       "      <th>Drug Name</th>\n",
       "      <th>Active Ingredient</th>\n",
       "      <th>Approval Date</th>\n",
       "      <th>FDA-approved use on approval date*</th>\n",
       "    </tr>\n",
       "  </thead>\n",
       "  <tbody>\n",
       "    <tr>\n",
       "      <th>53</th>\n",
       "      <td>50</td>\n",
       "      <td>ADBRY</td>\n",
       "      <td>tralokinumab-ldrm</td>\n",
       "      <td>12/27/2021</td>\n",
       "      <td>TO TREAT MODERATE-TO-SEVERE ATOPIC DERMATITIS</td>\n",
       "    </tr>\n",
       "    <tr>\n",
       "      <th>77</th>\n",
       "      <td>26</td>\n",
       "      <td>ADUHELM</td>\n",
       "      <td>aducanumab-avwa</td>\n",
       "      <td>6/7/2021</td>\n",
       "      <td>TO TREAT ALZHEIMER’S DISEASE</td>\n",
       "    </tr>\n",
       "    <tr>\n",
       "      <th>95</th>\n",
       "      <td>8</td>\n",
       "      <td>AMONDYS 45</td>\n",
       "      <td>casimersen</td>\n",
       "      <td>2/25/2021</td>\n",
       "      <td>TO TREAT DUCHENNE MUSCULAR DYSTROPHY</td>\n",
       "    </tr>\n",
       "    <tr>\n",
       "      <th>32</th>\n",
       "      <td>21.</td>\n",
       "      <td>ARTESUNATE</td>\n",
       "      <td>artesunate</td>\n",
       "      <td>5/26/2020</td>\n",
       "      <td>TO TREAT SEVERE MALARIA</td>\n",
       "    </tr>\n",
       "    <tr>\n",
       "      <th>52</th>\n",
       "      <td>1.</td>\n",
       "      <td>AYVAKIT</td>\n",
       "      <td>avapritinib</td>\n",
       "      <td>1/9/2020</td>\n",
       "      <td>TO TREAT ADULTS WITH UNRESECTABLE OR METASTATI...</td>\n",
       "    </tr>\n",
       "    <tr>\n",
       "      <th>...</th>\n",
       "      <td>...</td>\n",
       "      <td>...</td>\n",
       "      <td>...</td>\n",
       "      <td>...</td>\n",
       "      <td>...</td>\n",
       "    </tr>\n",
       "    <tr>\n",
       "      <th>89</th>\n",
       "      <td>14</td>\n",
       "      <td>ZEGALOGUE</td>\n",
       "      <td>dasiglucagon</td>\n",
       "      <td>3/22/2021</td>\n",
       "      <td>TO TREAT SEVERE HYPOGLYCEMIA</td>\n",
       "    </tr>\n",
       "    <tr>\n",
       "      <th>42</th>\n",
       "      <td>11.</td>\n",
       "      <td>ZEPOSIA</td>\n",
       "      <td>ozanimod</td>\n",
       "      <td>3/25/2020</td>\n",
       "      <td>TO TREAT RELAPSING FORMS OF MULTIPLE SCLEROSIS</td>\n",
       "    </tr>\n",
       "    <tr>\n",
       "      <th>29</th>\n",
       "      <td>24.</td>\n",
       "      <td>ZEPZELCA</td>\n",
       "      <td>lurbinectedin</td>\n",
       "      <td>6/15/2020</td>\n",
       "      <td>TO TREAT METASTATIC SMALL CELL LUNG CANCER</td>\n",
       "    </tr>\n",
       "    <tr>\n",
       "      <th>10</th>\n",
       "      <td>43.</td>\n",
       "      <td>ZOKINVY</td>\n",
       "      <td>lonafarnib</td>\n",
       "      <td>11/20/2020</td>\n",
       "      <td>TO TREAT RARE CONDITIONS RELATED TO PREMATURE ...</td>\n",
       "    </tr>\n",
       "    <tr>\n",
       "      <th>85</th>\n",
       "      <td>18</td>\n",
       "      <td>ZYNLONTA</td>\n",
       "      <td>loncastuximab tesirine-lpyl</td>\n",
       "      <td>4/23/2021</td>\n",
       "      <td>TO TREAT CERTAIN TYPES OF RELAPSED OR REFRACTO...</td>\n",
       "    </tr>\n",
       "  </tbody>\n",
       "</table>\n",
       "<p>103 rows × 5 columns</p>\n",
       "</div>"
      ],
      "text/plain": [
       "    No.   Drug Name            Active Ingredient Approval Date  \\\n",
       "53   50       ADBRY            tralokinumab-ldrm    12/27/2021   \n",
       "77   26     ADUHELM              aducanumab-avwa      6/7/2021   \n",
       "95    8  AMONDYS 45                   casimersen     2/25/2021   \n",
       "32  21.  ARTESUNATE                   artesunate     5/26/2020   \n",
       "52   1.     AYVAKIT                  avapritinib      1/9/2020   \n",
       "..  ...         ...                          ...           ...   \n",
       "89   14   ZEGALOGUE                 dasiglucagon     3/22/2021   \n",
       "42  11.     ZEPOSIA                     ozanimod     3/25/2020   \n",
       "29  24.    ZEPZELCA                lurbinectedin     6/15/2020   \n",
       "10  43.     ZOKINVY                   lonafarnib    11/20/2020   \n",
       "85   18    ZYNLONTA  loncastuximab tesirine-lpyl     4/23/2021   \n",
       "\n",
       "                   FDA-approved use on approval date*  \n",
       "53      TO TREAT MODERATE-TO-SEVERE ATOPIC DERMATITIS  \n",
       "77                       TO TREAT ALZHEIMER’S DISEASE  \n",
       "95               TO TREAT DUCHENNE MUSCULAR DYSTROPHY  \n",
       "32                            TO TREAT SEVERE MALARIA  \n",
       "52  TO TREAT ADULTS WITH UNRESECTABLE OR METASTATI...  \n",
       "..                                                ...  \n",
       "89                       TO TREAT SEVERE HYPOGLYCEMIA  \n",
       "42     TO TREAT RELAPSING FORMS OF MULTIPLE SCLEROSIS  \n",
       "29         TO TREAT METASTATIC SMALL CELL LUNG CANCER  \n",
       "10  TO TREAT RARE CONDITIONS RELATED TO PREMATURE ...  \n",
       "85  TO TREAT CERTAIN TYPES OF RELAPSED OR REFRACTO...  \n",
       "\n",
       "[103 rows x 5 columns]"
      ]
     },
     "execution_count": 145,
     "metadata": {},
     "output_type": "execute_result"
    }
   ],
   "source": [
    "extracted_data.sort_values(by='Drug Name')"
   ]
  },
  {
   "cell_type": "code",
   "execution_count": 146,
   "metadata": {},
   "outputs": [
    {
     "data": {
      "text/html": [
       "<div>\n",
       "<style scoped>\n",
       "    .dataframe tbody tr th:only-of-type {\n",
       "        vertical-align: middle;\n",
       "    }\n",
       "\n",
       "    .dataframe tbody tr th {\n",
       "        vertical-align: top;\n",
       "    }\n",
       "\n",
       "    .dataframe thead th {\n",
       "        text-align: right;\n",
       "    }\n",
       "</style>\n",
       "<table border=\"1\" class=\"dataframe\">\n",
       "  <thead>\n",
       "    <tr style=\"text-align: right;\">\n",
       "      <th></th>\n",
       "      <th>Trade Name</th>\n",
       "      <th>First in Class</th>\n",
       "      <th>Orphan</th>\n",
       "      <th>FT</th>\n",
       "      <th>BT</th>\n",
       "      <th>Priority</th>\n",
       "      <th>AA</th>\n",
       "      <th>PDUFA</th>\n",
       "      <th>1st Cycle</th>\n",
       "      <th>1st U.S.</th>\n",
       "    </tr>\n",
       "  </thead>\n",
       "  <tbody>\n",
       "    <tr>\n",
       "      <th>0</th>\n",
       "      <td>ADBRY</td>\n",
       "      <td>1</td>\n",
       "      <td>0</td>\n",
       "      <td>0</td>\n",
       "      <td>0</td>\n",
       "      <td>0</td>\n",
       "      <td>0</td>\n",
       "      <td>1</td>\n",
       "      <td>0</td>\n",
       "      <td>0</td>\n",
       "    </tr>\n",
       "    <tr>\n",
       "      <th>24</th>\n",
       "      <td>ADUHELM</td>\n",
       "      <td>1</td>\n",
       "      <td>0</td>\n",
       "      <td>1</td>\n",
       "      <td>0</td>\n",
       "      <td>1</td>\n",
       "      <td>1</td>\n",
       "      <td>1</td>\n",
       "      <td>1</td>\n",
       "      <td>1</td>\n",
       "    </tr>\n",
       "    <tr>\n",
       "      <th>42</th>\n",
       "      <td>AMONDYS 45</td>\n",
       "      <td>0</td>\n",
       "      <td>1</td>\n",
       "      <td>1</td>\n",
       "      <td>0</td>\n",
       "      <td>1</td>\n",
       "      <td>1</td>\n",
       "      <td>1</td>\n",
       "      <td>1</td>\n",
       "      <td>1</td>\n",
       "    </tr>\n",
       "    <tr>\n",
       "      <th>0</th>\n",
       "      <td>ARTESUNATE</td>\n",
       "      <td>0</td>\n",
       "      <td>1</td>\n",
       "      <td>1</td>\n",
       "      <td>1</td>\n",
       "      <td>1</td>\n",
       "      <td>0</td>\n",
       "      <td>1</td>\n",
       "      <td>1</td>\n",
       "      <td>0</td>\n",
       "    </tr>\n",
       "    <tr>\n",
       "      <th>1</th>\n",
       "      <td>AYVAKIT</td>\n",
       "      <td>0</td>\n",
       "      <td>1</td>\n",
       "      <td>1</td>\n",
       "      <td>1</td>\n",
       "      <td>1</td>\n",
       "      <td>0</td>\n",
       "      <td>1</td>\n",
       "      <td>1</td>\n",
       "      <td>1</td>\n",
       "    </tr>\n",
       "    <tr>\n",
       "      <th>...</th>\n",
       "      <td>...</td>\n",
       "      <td>...</td>\n",
       "      <td>...</td>\n",
       "      <td>...</td>\n",
       "      <td>...</td>\n",
       "      <td>...</td>\n",
       "      <td>...</td>\n",
       "      <td>...</td>\n",
       "      <td>...</td>\n",
       "      <td>...</td>\n",
       "    </tr>\n",
       "    <tr>\n",
       "      <th>36</th>\n",
       "      <td>ZEGALOGUE</td>\n",
       "      <td>0</td>\n",
       "      <td>0</td>\n",
       "      <td>0</td>\n",
       "      <td>0</td>\n",
       "      <td>0</td>\n",
       "      <td>0</td>\n",
       "      <td>1</td>\n",
       "      <td>1</td>\n",
       "      <td>1</td>\n",
       "    </tr>\n",
       "    <tr>\n",
       "      <th>50</th>\n",
       "      <td>ZEPOSIA</td>\n",
       "      <td>0</td>\n",
       "      <td>0</td>\n",
       "      <td>0</td>\n",
       "      <td>0</td>\n",
       "      <td>0</td>\n",
       "      <td>0</td>\n",
       "      <td>1</td>\n",
       "      <td>1</td>\n",
       "      <td>1</td>\n",
       "    </tr>\n",
       "    <tr>\n",
       "      <th>51</th>\n",
       "      <td>ZEPZELCA</td>\n",
       "      <td>0</td>\n",
       "      <td>1</td>\n",
       "      <td>0</td>\n",
       "      <td>0</td>\n",
       "      <td>1</td>\n",
       "      <td>1</td>\n",
       "      <td>1</td>\n",
       "      <td>1</td>\n",
       "      <td>1</td>\n",
       "    </tr>\n",
       "    <tr>\n",
       "      <th>52</th>\n",
       "      <td>ZOKINVY</td>\n",
       "      <td>1</td>\n",
       "      <td>1</td>\n",
       "      <td>0</td>\n",
       "      <td>1</td>\n",
       "      <td>1</td>\n",
       "      <td>0</td>\n",
       "      <td>1</td>\n",
       "      <td>1</td>\n",
       "      <td>1</td>\n",
       "    </tr>\n",
       "    <tr>\n",
       "      <th>32</th>\n",
       "      <td>ZYNLONTA</td>\n",
       "      <td>1</td>\n",
       "      <td>1</td>\n",
       "      <td>0</td>\n",
       "      <td>0</td>\n",
       "      <td>1</td>\n",
       "      <td>1</td>\n",
       "      <td>1</td>\n",
       "      <td>1</td>\n",
       "      <td>1</td>\n",
       "    </tr>\n",
       "  </tbody>\n",
       "</table>\n",
       "<p>103 rows × 10 columns</p>\n",
       "</div>"
      ],
      "text/plain": [
       "    Trade Name First in Class Orphan FT BT Priority AA PDUFA 1st Cycle  \\\n",
       "0        ADBRY              1      0  0  0        0  0     1         0   \n",
       "24     ADUHELM              1      0  1  0        1  1     1         1   \n",
       "42  AMONDYS 45              0      1  1  0        1  1     1         1   \n",
       "0   ARTESUNATE              0      1  1  1        1  0     1         1   \n",
       "1      AYVAKIT              0      1  1  1        1  0     1         1   \n",
       "..         ...            ...    ... .. ..      ... ..   ...       ...   \n",
       "36   ZEGALOGUE              0      0  0  0        0  0     1         1   \n",
       "50     ZEPOSIA              0      0  0  0        0  0     1         1   \n",
       "51    ZEPZELCA              0      1  0  0        1  1     1         1   \n",
       "52     ZOKINVY              1      1  0  1        1  0     1         1   \n",
       "32    ZYNLONTA              1      1  0  0        1  1     1         1   \n",
       "\n",
       "   1st U.S.  \n",
       "0         0  \n",
       "24        1  \n",
       "42        1  \n",
       "0         0  \n",
       "1         1  \n",
       "..      ...  \n",
       "36        1  \n",
       "50        1  \n",
       "51        1  \n",
       "52        1  \n",
       "32        1  \n",
       "\n",
       "[103 rows x 10 columns]"
      ]
     },
     "execution_count": 146,
     "metadata": {},
     "output_type": "execute_result"
    }
   ],
   "source": [
    "full_bool.sort_values(by='Trade Name')"
   ]
  },
  {
   "cell_type": "code",
   "execution_count": 203,
   "metadata": {},
   "outputs": [
    {
     "ename": "KeyError",
     "evalue": "'Trade Name'",
     "output_type": "error",
     "traceback": [
      "\u001b[1;31m---------------------------------------------------------------------------\u001b[0m",
      "\u001b[1;31mKeyError\u001b[0m                                  Traceback (most recent call last)",
      "\u001b[1;32m~\\Anaconda3\\envs\\devRDA\\lib\\site-packages\\pandas\\core\\indexes\\base.py\u001b[0m in \u001b[0;36mget_loc\u001b[1;34m(self, key, method, tolerance)\u001b[0m\n\u001b[0;32m   2888\u001b[0m             \u001b[1;32mtry\u001b[0m\u001b[1;33m:\u001b[0m\u001b[1;33m\u001b[0m\u001b[1;33m\u001b[0m\u001b[0m\n\u001b[1;32m-> 2889\u001b[1;33m                 \u001b[1;32mreturn\u001b[0m \u001b[0mself\u001b[0m\u001b[1;33m.\u001b[0m\u001b[0m_engine\u001b[0m\u001b[1;33m.\u001b[0m\u001b[0mget_loc\u001b[0m\u001b[1;33m(\u001b[0m\u001b[0mcasted_key\u001b[0m\u001b[1;33m)\u001b[0m\u001b[1;33m\u001b[0m\u001b[1;33m\u001b[0m\u001b[0m\n\u001b[0m\u001b[0;32m   2890\u001b[0m             \u001b[1;32mexcept\u001b[0m \u001b[0mKeyError\u001b[0m \u001b[1;32mas\u001b[0m \u001b[0merr\u001b[0m\u001b[1;33m:\u001b[0m\u001b[1;33m\u001b[0m\u001b[1;33m\u001b[0m\u001b[0m\n",
      "\u001b[1;32mpandas\\_libs\\index.pyx\u001b[0m in \u001b[0;36mpandas._libs.index.IndexEngine.get_loc\u001b[1;34m()\u001b[0m\n",
      "\u001b[1;32mpandas\\_libs\\index.pyx\u001b[0m in \u001b[0;36mpandas._libs.index.IndexEngine.get_loc\u001b[1;34m()\u001b[0m\n",
      "\u001b[1;32mpandas\\_libs\\hashtable_class_helper.pxi\u001b[0m in \u001b[0;36mpandas._libs.hashtable.PyObjectHashTable.get_item\u001b[1;34m()\u001b[0m\n",
      "\u001b[1;32mpandas\\_libs\\hashtable_class_helper.pxi\u001b[0m in \u001b[0;36mpandas._libs.hashtable.PyObjectHashTable.get_item\u001b[1;34m()\u001b[0m\n",
      "\u001b[1;31mKeyError\u001b[0m: 'Trade Name'",
      "\nThe above exception was the direct cause of the following exception:\n",
      "\u001b[1;31mKeyError\u001b[0m                                  Traceback (most recent call last)",
      "\u001b[1;32m<ipython-input-203-98c82e2375c7>\u001b[0m in \u001b[0;36m<module>\u001b[1;34m\u001b[0m\n\u001b[0;32m      1\u001b[0m \u001b[1;31m#  'GA 68 PSMA-11' and 'GALLIUM 68 PSMA-11' are technically the same here,\u001b[0m\u001b[1;33m\u001b[0m\u001b[1;33m\u001b[0m\u001b[1;33m\u001b[0m\u001b[0m\n\u001b[0;32m      2\u001b[0m \u001b[1;31m# abbreviated version has a hit in the api, so I'll use that version\u001b[0m\u001b[1;33m\u001b[0m\u001b[1;33m\u001b[0m\u001b[1;33m\u001b[0m\u001b[0m\n\u001b[1;32m----> 3\u001b[1;33m \u001b[0mlen\u001b[0m\u001b[1;33m(\u001b[0m\u001b[0mset\u001b[0m\u001b[1;33m(\u001b[0m\u001b[0mnp\u001b[0m\u001b[1;33m.\u001b[0m\u001b[0mconcatenate\u001b[0m\u001b[1;33m(\u001b[0m\u001b[1;33m[\u001b[0m\u001b[0mnp\u001b[0m\u001b[1;33m.\u001b[0m\u001b[0marray\u001b[0m\u001b[1;33m(\u001b[0m\u001b[0mfull_bool\u001b[0m\u001b[1;33m[\u001b[0m\u001b[1;34m'Trade Name'\u001b[0m\u001b[1;33m]\u001b[0m\u001b[1;33m)\u001b[0m\u001b[1;33m,\u001b[0m \u001b[0mnp\u001b[0m\u001b[1;33m.\u001b[0m\u001b[0marray\u001b[0m\u001b[1;33m(\u001b[0m\u001b[0mextracted_data\u001b[0m\u001b[1;33m[\u001b[0m\u001b[1;34m'Drug Name'\u001b[0m\u001b[1;33m]\u001b[0m\u001b[1;33m)\u001b[0m\u001b[1;33m]\u001b[0m\u001b[1;33m)\u001b[0m\u001b[1;33m)\u001b[0m\u001b[1;33m)\u001b[0m\u001b[1;33m\u001b[0m\u001b[1;33m\u001b[0m\u001b[0m\n\u001b[0m\u001b[0;32m      4\u001b[0m \u001b[1;33m\u001b[0m\u001b[0m\n\u001b[0;32m      5\u001b[0m \u001b[0mextracted_data\u001b[0m \u001b[1;33m=\u001b[0m \u001b[0mextracted_data\u001b[0m\u001b[1;33m.\u001b[0m\u001b[0mreplace\u001b[0m\u001b[1;33m(\u001b[0m\u001b[1;34m'GALLIUM 68 PSMA-11'\u001b[0m\u001b[1;33m,\u001b[0m \u001b[1;34m'GA 68 PSMA-11'\u001b[0m\u001b[1;33m)\u001b[0m\u001b[1;33m\u001b[0m\u001b[1;33m\u001b[0m\u001b[0m\n",
      "\u001b[1;32m~\\Anaconda3\\envs\\devRDA\\lib\\site-packages\\pandas\\core\\frame.py\u001b[0m in \u001b[0;36m__getitem__\u001b[1;34m(self, key)\u001b[0m\n\u001b[0;32m   2897\u001b[0m             \u001b[1;32mif\u001b[0m \u001b[0mself\u001b[0m\u001b[1;33m.\u001b[0m\u001b[0mcolumns\u001b[0m\u001b[1;33m.\u001b[0m\u001b[0mnlevels\u001b[0m \u001b[1;33m>\u001b[0m \u001b[1;36m1\u001b[0m\u001b[1;33m:\u001b[0m\u001b[1;33m\u001b[0m\u001b[1;33m\u001b[0m\u001b[0m\n\u001b[0;32m   2898\u001b[0m                 \u001b[1;32mreturn\u001b[0m \u001b[0mself\u001b[0m\u001b[1;33m.\u001b[0m\u001b[0m_getitem_multilevel\u001b[0m\u001b[1;33m(\u001b[0m\u001b[0mkey\u001b[0m\u001b[1;33m)\u001b[0m\u001b[1;33m\u001b[0m\u001b[1;33m\u001b[0m\u001b[0m\n\u001b[1;32m-> 2899\u001b[1;33m             \u001b[0mindexer\u001b[0m \u001b[1;33m=\u001b[0m \u001b[0mself\u001b[0m\u001b[1;33m.\u001b[0m\u001b[0mcolumns\u001b[0m\u001b[1;33m.\u001b[0m\u001b[0mget_loc\u001b[0m\u001b[1;33m(\u001b[0m\u001b[0mkey\u001b[0m\u001b[1;33m)\u001b[0m\u001b[1;33m\u001b[0m\u001b[1;33m\u001b[0m\u001b[0m\n\u001b[0m\u001b[0;32m   2900\u001b[0m             \u001b[1;32mif\u001b[0m \u001b[0mis_integer\u001b[0m\u001b[1;33m(\u001b[0m\u001b[0mindexer\u001b[0m\u001b[1;33m)\u001b[0m\u001b[1;33m:\u001b[0m\u001b[1;33m\u001b[0m\u001b[1;33m\u001b[0m\u001b[0m\n\u001b[0;32m   2901\u001b[0m                 \u001b[0mindexer\u001b[0m \u001b[1;33m=\u001b[0m \u001b[1;33m[\u001b[0m\u001b[0mindexer\u001b[0m\u001b[1;33m]\u001b[0m\u001b[1;33m\u001b[0m\u001b[1;33m\u001b[0m\u001b[0m\n",
      "\u001b[1;32m~\\Anaconda3\\envs\\devRDA\\lib\\site-packages\\pandas\\core\\indexes\\base.py\u001b[0m in \u001b[0;36mget_loc\u001b[1;34m(self, key, method, tolerance)\u001b[0m\n\u001b[0;32m   2889\u001b[0m                 \u001b[1;32mreturn\u001b[0m \u001b[0mself\u001b[0m\u001b[1;33m.\u001b[0m\u001b[0m_engine\u001b[0m\u001b[1;33m.\u001b[0m\u001b[0mget_loc\u001b[0m\u001b[1;33m(\u001b[0m\u001b[0mcasted_key\u001b[0m\u001b[1;33m)\u001b[0m\u001b[1;33m\u001b[0m\u001b[1;33m\u001b[0m\u001b[0m\n\u001b[0;32m   2890\u001b[0m             \u001b[1;32mexcept\u001b[0m \u001b[0mKeyError\u001b[0m \u001b[1;32mas\u001b[0m \u001b[0merr\u001b[0m\u001b[1;33m:\u001b[0m\u001b[1;33m\u001b[0m\u001b[1;33m\u001b[0m\u001b[0m\n\u001b[1;32m-> 2891\u001b[1;33m                 \u001b[1;32mraise\u001b[0m \u001b[0mKeyError\u001b[0m\u001b[1;33m(\u001b[0m\u001b[0mkey\u001b[0m\u001b[1;33m)\u001b[0m \u001b[1;32mfrom\u001b[0m \u001b[0merr\u001b[0m\u001b[1;33m\u001b[0m\u001b[1;33m\u001b[0m\u001b[0m\n\u001b[0m\u001b[0;32m   2892\u001b[0m \u001b[1;33m\u001b[0m\u001b[0m\n\u001b[0;32m   2893\u001b[0m         \u001b[1;32mif\u001b[0m \u001b[0mtolerance\u001b[0m \u001b[1;32mis\u001b[0m \u001b[1;32mnot\u001b[0m \u001b[1;32mNone\u001b[0m\u001b[1;33m:\u001b[0m\u001b[1;33m\u001b[0m\u001b[1;33m\u001b[0m\u001b[0m\n",
      "\u001b[1;31mKeyError\u001b[0m: 'Trade Name'"
     ]
    }
   ],
   "source": [
    "#  'GA 68 PSMA-11' and 'GALLIUM 68 PSMA-11' are technically the same here, \n",
    "# abbreviated version has a hit in the api, so I'll use that version\n",
    "len(set(np.concatenate([np.array(full_bool['Trade Name']), np.array(extracted_data['Drug Name'])])))\n",
    "\n",
    "extracted_data = extracted_data.replace('GALLIUM 68 PSMA-11', 'GA 68 PSMA-11')"
   ]
  },
  {
   "cell_type": "markdown",
   "metadata": {},
   "source": [
    "## Rest of Columns"
   ]
  },
  {
   "cell_type": "markdown",
   "metadata": {},
   "source": [
    "What's left?\n",
    "<br><br>\n",
    "DosageForm<br>\n",
    "ApplicationDocsURL<br>\n",
    "ApprovalSponsor<br>\n",
    "FilingDate<br>\n",
    "DrugBankURL<br>\n",
    "Type<br>\n",
    "<br><br>\n",
    "**GOTTA LOOK AT THE BIOLOGICS AND VACCINES SECTION FOR MORE APPROVALS!**<br>\n",
    "Biologic Classification<br>\n",
    "FDASource (CBER/CDER) ----- given since were pulling from there anyway"
   ]
  },
  {
   "cell_type": "markdown",
   "metadata": {},
   "source": [
    "Looks like for some of these columns we can utilize the drugs@fda api to extract information. Not sure how stable the api is, so may need tweaking in future years"
   ]
  },
  {
   "cell_type": "code",
   "execution_count": 148,
   "metadata": {},
   "outputs": [],
   "source": [
    "from datetime import datetime"
   ]
  },
  {
   "cell_type": "code",
   "execution_count": 149,
   "metadata": {},
   "outputs": [],
   "source": [
    "def get_dosage_form(products):\n",
    "    dosage_form = ''\n",
    "    for i,x in enumerate(products):\n",
    "        if i == 0:\n",
    "            dosage_form+=x['dosage_form']\n",
    "        else:\n",
    "            if dosage_form != x['dosage_form']:\n",
    "                dosage_form+=(', ' + x['dosage_form'])\n",
    "    return dosage_form\n",
    "\n",
    "def select_letter(orig_app_doc):\n",
    "    for x in orig_app_doc:\n",
    "        if x['type'] == 'Letter':\n",
    "            return x['url'], x['date']"
   ]
  },
  {
   "cell_type": "code",
   "execution_count": 150,
   "metadata": {
    "scrolled": true
   },
   "outputs": [
    {
     "name": "stdout",
     "output_type": "stream",
     "text": [
      "GALLIUM 68 PSMA-11 didn't work, check manually\n",
      "GAVRETO didn't work, check manually\n",
      "SOGROYA didn't work, check manually\n",
      "ARTESUNATE didn't work, check manually\n"
     ]
    }
   ],
   "source": [
    "api_data = pd.DataFrame(columns=['DrugName', 'DosageForm', 'ApplicationDocsURL', \n",
    "                                 'ApprovalSponsor', 'FilingDate'])\n",
    "\n",
    "api_base = 'https://api.fda.gov/drug/drugsfda.json?'\n",
    "\n",
    "manual_check = []\n",
    "\n",
    "\n",
    "for drug in extracted_data['Drug Name']:\n",
    "    \n",
    "    try:\n",
    "        api_params = dict(\n",
    "        search='openfda.brand_name:' + '\\\"' + drug + '\\\"',\n",
    "        limit=1\n",
    "        )\n",
    "\n",
    "        pull = requests.get(url=api_base, params=api_params).json()\n",
    "\n",
    "        # dosage form\n",
    "        dosage_form = get_dosage_form(pull['results'][0]['products'])\n",
    "        # application docs url\n",
    "        orig_sub = ([x for x in pull['results'][0]['submissions'] \n",
    "                     if x['submission_type'] == 'ORIG'][0]['application_docs'])\n",
    "        app_url = select_letter(orig_sub)[0]\n",
    "        # approval sponsor\n",
    "        app_spon = pull['results'][0]['sponsor_name']\n",
    "        # filing date\n",
    "        filing_date = datetime.strptime(select_letter(orig_sub)[1], '%Y%m%d').strftime('%Y-%m-%d')\n",
    "\n",
    "        row = [drug, dosage_form, app_url, app_spon, filing_date]\n",
    "        api_data.loc[len(api_data)] = row\n",
    "    \n",
    "    except:\n",
    "        print(drug + \" didn't work, check manually\")\n",
    "        manual_check.append(drug)"
   ]
  },
  {
   "cell_type": "code",
   "execution_count": 151,
   "metadata": {},
   "outputs": [],
   "source": [
    "manual_pulls = []\n",
    "\n",
    "for drug in manual_check:\n",
    "    api_params = dict(\n",
    "        search='openfda.brand_name:' + '\\\"' + drug + '\\\"',\n",
    "        limit=1\n",
    "    )\n",
    "    manual_pulls.append(requests.get(url=api_base, params=api_params).json())"
   ]
  },
  {
   "cell_type": "code",
   "execution_count": 152,
   "metadata": {},
   "outputs": [
    {
     "data": {
      "text/plain": [
       "{'error': {'code': 'NOT_FOUND', 'message': 'No matches found!'}}"
      ]
     },
     "execution_count": 152,
     "metadata": {},
     "output_type": "execute_result"
    }
   ],
   "source": [
    "api_params = dict(\n",
    "        search='openfda.brand_name:\"COMIRNATY\"',\n",
    "        limit=1\n",
    ")\n",
    "\n",
    "requests.get(url=api_base, params=api_params).json()"
   ]
  },
  {
   "cell_type": "markdown",
   "metadata": {},
   "source": [
    "## **will need to manually look up info for SOGROYA and ARTESUNATE**"
   ]
  },
  {
   "cell_type": "code",
   "execution_count": 153,
   "metadata": {
    "collapsed": true
   },
   "outputs": [
    {
     "data": {
      "text/plain": [
       "[{'error': {'code': 'NOT_FOUND', 'message': 'No matches found!'}},\n",
       " {'meta': {'disclaimer': 'Do not rely on openFDA to make decisions regarding medical care. While we make every effort to ensure that data is accurate, you should assume all results are unvalidated. We may limit or otherwise restrict your access to the API in line with our Terms of Service.',\n",
       "   'terms': 'https://open.fda.gov/terms/',\n",
       "   'license': 'https://open.fda.gov/license/',\n",
       "   'last_updated': '2022-05-17',\n",
       "   'results': {'skip': 0, 'limit': 1, 'total': 1}},\n",
       "  'results': [{'submissions': [{'submission_type': 'SUPPL',\n",
       "      'submission_number': '5',\n",
       "      'submission_status': 'AP',\n",
       "      'submission_status_date': '20220202',\n",
       "      'review_priority': 'STANDARD',\n",
       "      'submission_class_code': 'LABELING',\n",
       "      'submission_class_code_description': 'Labeling',\n",
       "      'submission_property_type': [{'code': 'Orphan'}],\n",
       "      'application_docs': [{'id': '70066',\n",
       "        'url': 'https://www.accessdata.fda.gov/drugsatfda_docs/appletter/2022/213721Orig1s005ltr.pdf',\n",
       "        'date': '20220203',\n",
       "        'type': 'Letter'},\n",
       "       {'id': '70069',\n",
       "        'url': 'http://www.accessdata.fda.gov/drugsatfda_docs/label/2022/213721s005lbl.pdf',\n",
       "        'date': '20220204',\n",
       "        'type': 'Label'}]},\n",
       "     {'submission_type': 'SUPPL',\n",
       "      'submission_number': '1',\n",
       "      'submission_status': 'AP',\n",
       "      'submission_status_date': '20200904',\n",
       "      'review_priority': 'PRIORITY',\n",
       "      'submission_class_code': 'TYPE 1',\n",
       "      'submission_class_code_description': 'Type 1 - New Molecular Entity',\n",
       "      'application_docs': [{'id': '64520',\n",
       "        'url': 'http://www.accessdata.fda.gov/drugsatfda_docs/label/2020/213721s000lbl.pdf',\n",
       "        'date': '20200908',\n",
       "        'type': 'Label'},\n",
       "       {'id': '64531',\n",
       "        'url': 'http://www.accessdata.fda.gov/drugsatfda_docs/appletter/2020/213721Orig1s000ltr.pdf',\n",
       "        'date': '20200908',\n",
       "        'type': 'Letter'}]},\n",
       "     {'submission_type': 'SUPPL',\n",
       "      'submission_number': '4',\n",
       "      'submission_status': 'AP',\n",
       "      'submission_status_date': '20211110',\n",
       "      'review_priority': 'STANDARD',\n",
       "      'submission_class_code': 'LABELING',\n",
       "      'submission_class_code_description': 'Labeling',\n",
       "      'submission_property_type': [{'code': 'Orphan'}],\n",
       "      'application_docs': [{'id': '69297',\n",
       "        'url': 'https://www.accessdata.fda.gov/drugsatfda_docs/appletter/2021/213721Orig1s004ltr.pdf',\n",
       "        'date': '20211112',\n",
       "        'type': 'Letter'},\n",
       "       {'id': '69300',\n",
       "        'url': 'http://www.accessdata.fda.gov/drugsatfda_docs/label/2021/213721s004lbl.pdf',\n",
       "        'date': '20211112',\n",
       "        'type': 'Label'}]},\n",
       "     {'submission_type': 'ORIG',\n",
       "      'submission_number': '1',\n",
       "      'submission_status': 'AP',\n",
       "      'submission_status_date': '20200904',\n",
       "      'review_priority': 'PRIORITY',\n",
       "      'submission_class_code': 'TYPE 1',\n",
       "      'submission_class_code_description': 'Type 1 - New Molecular Entity',\n",
       "      'submission_property_type': [{'code': 'Orphan'}],\n",
       "      'application_docs': [{'id': '64757',\n",
       "        'url': 'http://www.accessdata.fda.gov/drugsatfda_docs/nda/2020/213721Orig1s000TOC.cfm',\n",
       "        'date': '20200929',\n",
       "        'type': 'Review'}]}],\n",
       "    'application_number': 'NDA213721',\n",
       "    'sponsor_name': 'GENENTECH INC',\n",
       "    'openfda': {'application_number': ['NDA213721'],\n",
       "     'brand_name': ['GAVRETO'],\n",
       "     'generic_name': ['PRALSETINIB'],\n",
       "     'manufacturer_name': ['Genentech, Inc.'],\n",
       "     'product_ndc': ['50242-210'],\n",
       "     'product_type': ['HUMAN PRESCRIPTION DRUG'],\n",
       "     'route': ['ORAL'],\n",
       "     'substance_name': ['PRALSETINIB'],\n",
       "     'rxcui': ['2394941', '2394947'],\n",
       "     'spl_id': ['c06062fd-6db9-4140-933e-6758cb2ae714'],\n",
       "     'spl_set_id': ['59984249-e3ff-4f97-8d7a-c1a905d604a8'],\n",
       "     'package_ndc': ['50242-210-90', '50242-210-60', '50242-210-83'],\n",
       "     'nui': ['N0000175605', 'N0000193947'],\n",
       "     'pharm_class_epc': ['Kinase Inhibitor [EPC]'],\n",
       "     'pharm_class_moa': ['Rearranged during Transfection (RET) Inhibitors [MoA]'],\n",
       "     'unii': ['1WPE73O1WV']},\n",
       "    'products': [{'product_number': '001',\n",
       "      'reference_drug': 'Yes',\n",
       "      'brand_name': 'GAVRETO',\n",
       "      'active_ingredients': [{'name': 'PRALSETINIB', 'strength': '100MG'}],\n",
       "      'reference_standard': 'Yes',\n",
       "      'dosage_form': 'CAPSULE',\n",
       "      'route': 'ORAL',\n",
       "      'marketing_status': 'Prescription'}]}]},\n",
       " {'error': {'code': 'NOT_FOUND', 'message': 'No matches found!'}},\n",
       " {'error': {'code': 'NOT_FOUND', 'message': 'No matches found!'}}]"
      ]
     },
     "execution_count": 153,
     "metadata": {},
     "output_type": "execute_result"
    }
   ],
   "source": [
    "manual_pulls"
   ]
  },
  {
   "cell_type": "markdown",
   "metadata": {},
   "source": [
    "## Final Columns DrugBank (Selenium)"
   ]
  },
  {
   "cell_type": "code",
   "execution_count": 101,
   "metadata": {},
   "outputs": [],
   "source": [
    "from selenium import webdriver\n",
    "import time\n",
    "from selenium.webdriver.common.keys import Keys"
   ]
  },
  {
   "cell_type": "code",
   "execution_count": 102,
   "metadata": {
    "scrolled": true
   },
   "outputs": [],
   "source": [
    "# using port 9999 bc default port was taken, you need to download webdriver that matches current \n",
    "# chrome (or other browser) version and replace path if necessary\n",
    "\n",
    "path = r'C:\\Users\\chilker\\chromedriver.exe'\n",
    "driver = webdriver.Chrome(path, port=9999)\n",
    "info = []\n",
    "\n",
    "driver.get(\"https://go.drugbank.com/\")\n",
    "driver.implicitly_wait(0.5)\n",
    "\n",
    "for ind, drug in enumerate(extracted_data['Drug Name']):\n",
    "    search_box = driver.find_element(by='name', value=\"query\")\n",
    "    \n",
    "    search_box.send_keys(drug)\n",
    "    search_box.send_keys(Keys.ENTER)\n",
    "    \n",
    "    if len(driver.current_url) > 40:\n",
    "        search_box = driver.find_element(by='name', value=\"query\")\n",
    "        #need to clear search bar, when there's an error website doesn't auto-clear\n",
    "        search_box.clear()\n",
    "        \n",
    "        #try active ingredient when drug name has no hit\n",
    "        search_box.send_keys(extracted_data['Active Ingredient'][ind])\n",
    "        search_box.send_keys(Keys.ENTER)\n",
    "        \n",
    "        if len(driver.current_url) > 40:\n",
    "            search_box = driver.find_element(by='name', value=\"query\")\n",
    "            #need to clear search bar, when there's an error website doesn't auto-clear\n",
    "            search_box.clear()\n",
    "        \n",
    "            info.append((drug, ''))\n",
    "            continue\n",
    "        else:\n",
    "            # don't need to clear in this case\n",
    "            key = driver.find_elements_by_tag_name('dt')\n",
    "            val = driver.find_elements_by_tag_name('dd')\n",
    "\n",
    "            ph_dict = dict(zip([x.text for x in key], [x.text for x in val]))\n",
    "            info.append((drug, ph_dict))\n",
    "        continue\n",
    "        \n",
    "    else:\n",
    "        # don't need to clear in this case\n",
    "        key = driver.find_elements_by_tag_name('dt')\n",
    "        val = driver.find_elements_by_tag_name('dd')\n",
    "\n",
    "        ph_dict = dict(zip([x.text for x in key], [x.text for x in val]))\n",
    "        info.append((drug, ph_dict))\n",
    "        \n",
    "    time.sleep(2)\n",
    "    \n",
    "    \n",
    "driver.close()"
   ]
  },
  {
   "cell_type": "code",
   "execution_count": 105,
   "metadata": {},
   "outputs": [
    {
     "data": {
      "text/plain": [
       "['GA 68 PSMA-11',\n",
       " 'INMAZEB',\n",
       " 'INQOVI',\n",
       " 'LYBALVI',\n",
       " 'NEXTSTELLIS',\n",
       " 'AZSTARYS',\n",
       " 'CABENUVA']"
      ]
     },
     "execution_count": 105,
     "metadata": {},
     "output_type": "execute_result"
    }
   ],
   "source": [
    "# errors\n",
    "[x[0] for x in info if x[1] == '']"
   ]
  },
  {
   "cell_type": "code",
   "execution_count": 112,
   "metadata": {},
   "outputs": [],
   "source": [
    "drugbank_data = pd.DataFrame()\n",
    "\n",
    "drugbank_data['Drug Name'] = [x[0] for x in info]\n",
    "drugbank_data['Type'] = [x[1]['Type'] if x[1] != '' else '' for x in info]\n",
    "drugbank_data['DrugBank URL'] = (['https://go.drugbank.com/drugs/' + x[1]['DrugBank Accession Number'] \n",
    "                                  if x[1] != '' else '' for x in info])"
   ]
  },
  {
   "cell_type": "code",
   "execution_count": 186,
   "metadata": {},
   "outputs": [],
   "source": [
    "drugbank_data\n",
    "\n",
    "api_data = api_data.rename(columns={'DrugName': 'Drug Name'})\n",
    "\n",
    "#extracted_data = extracted_data.drop('No.', axis=1)\n",
    "extracted_data = extracted_data.replace('GALLIUM 68 PSMA-11', 'GA 68 PSMA-11')\n",
    "\n",
    "full_bool = full_bool.rename(columns={'Trade Name': 'Drug Name'}).replace(0, False).replace(1, True)"
   ]
  },
  {
   "cell_type": "code",
   "execution_count": 187,
   "metadata": {},
   "outputs": [],
   "source": [
    "from functools import reduce\n",
    "data_frames = [drugbank_data, api_data, extracted_data, full_bool]"
   ]
  },
  {
   "cell_type": "code",
   "execution_count": 188,
   "metadata": {},
   "outputs": [],
   "source": [
    "data_merged = reduce(lambda  left,right: pd.merge(left,right,on=['Drug Name'], how='outer'), data_frames)"
   ]
  },
  {
   "cell_type": "code",
   "execution_count": 193,
   "metadata": {},
   "outputs": [],
   "source": [
    "data_merged = data_merged.rename(columns={'Drug Name':'DrugName', 'Type':'Type', 'DrugBank URL':'DrugBankURL', \n",
    "                            'DosageForm':'DosageForm', 'ApplicationDocsURL':'ApplicationDocsURL', \n",
    "                            'ApprovalSponsor':'ApprovalSponsor', 'FilingDate':'FilingDate',\n",
    "                            'Active Ingredient':'ActiveIngredient', 'Approval Date':'ApprovalDate', \n",
    "                            'FDA-approved use on approval date*':'Indication', \n",
    "                            'First in Class':'FirstInClass', 'Orphan':'OrphanDrug', 'FT':'FastTrack', \n",
    "                            'BT':'FDABreakthrough', 'Priority':'FDAPriority', \n",
    "                            'AA':'AcceleratedApproval', 'PDUFA':'MetPDUFAGoal', \n",
    "                            '1st Cycle':'FirstCycleApproval', '1st U.S.':'FirstInUS'})"
   ]
  },
  {
   "cell_type": "code",
   "execution_count": 197,
   "metadata": {},
   "outputs": [],
   "source": [
    "full_fda = pd.concat([past_data, data_merged])"
   ]
  },
  {
   "cell_type": "code",
   "execution_count": 198,
   "metadata": {},
   "outputs": [],
   "source": [
    "full_fda.to_csv('2011 to 2021 Approvals (no CBER).csv', index=False)"
   ]
  },
  {
   "cell_type": "markdown",
   "metadata": {},
   "source": [
    "# VACCINES/BIOLOGICS (CBER)"
   ]
  },
  {
   "cell_type": "markdown",
   "metadata": {},
   "source": [
    "For CBER you have to do DrugBank Selenium pull\n",
    "\n",
    "For now, just going to manually add CBER, there's only like 15 and it's hard to parse, also some are related to diagnostic/raw materials, not relevant"
   ]
  },
  {
   "cell_type": "code",
   "execution_count": 199,
   "metadata": {},
   "outputs": [],
   "source": [
    "url_20 = \"https://www.fda.gov/vaccines-blood-biologics/development-approval-process-cber/2020-biological-license-application-approvals\"\n",
    "url_21 = \"https://www.fda.gov/vaccines-blood-biologics/development-approval-process-cber/2021-biological-license-application-approvals\""
   ]
  },
  {
   "cell_type": "code",
   "execution_count": 206,
   "metadata": {},
   "outputs": [
    {
     "data": {
      "text/plain": [
       "['TECARTUS', 'brexucabtagene autoleucel']"
      ]
     },
     "execution_count": 206,
     "metadata": {},
     "output_type": "execute_result"
    }
   ],
   "source": [
    "pd.read_html(url_20)[0]['Tradename/Proper Name'][0].split('  ')"
   ]
  },
  {
   "cell_type": "code",
   "execution_count": 207,
   "metadata": {},
   "outputs": [
    {
     "data": {
      "text/plain": [
       "[['TECARTUS', 'brexucabtagene autoleucel'],\n",
       " ['Blood Grouping Reagent, Anti-Lea (Murine Monoclonal)(For Further Manufacturing Use)(FFMU)'],\n",
       " ['Blood Grouping Reagent, Anti-Leb (Murine Monoclonal)(For Further Manufacturing Use) (FFMU)'],\n",
       " ['MenQuadfi', 'Meningococcal (Groups A, C, Y, W) Conjugate Vaccine'],\n",
       " ['SEVENFACT', 'Coagulation Factor VIIa (Recombinant)'],\n",
       " ['DG® Gel 8 ABO/Rh (2D)',\n",
       "  'Blood Grouping Reagent, Anti-D (Monoclonal Blend)'],\n",
       " ['AUDENZ', 'Influenza A (H5N1) Monovalent Vaccine, Adjuvanted'],\n",
       " ['PALFORZIA Peanut (Arachis hypogaea) Allergen Powder']]"
      ]
     },
     "execution_count": 207,
     "metadata": {},
     "output_type": "execute_result"
    }
   ],
   "source": [
    "[x.split('  ') for x in pd.read_html(url_20)[0]['Tradename/Proper Name']]"
   ]
  },
  {
   "cell_type": "code",
   "execution_count": 214,
   "metadata": {},
   "outputs": [],
   "source": [
    "api_base = 'https://api.fda.gov/drug/drugsfda.json?'\n",
    "\n",
    "api_params = dict(\n",
    "    search='openfda.brand_name:' + '\\\"brexucabtagene autoleucel\\\"', \n",
    "    limit=1)"
   ]
  },
  {
   "cell_type": "code",
   "execution_count": 215,
   "metadata": {},
   "outputs": [],
   "source": [
    "pull = requests.get(url=api_base, params=api_params).json()"
   ]
  },
  {
   "cell_type": "code",
   "execution_count": 216,
   "metadata": {},
   "outputs": [
    {
     "data": {
      "text/plain": [
       "{'error': {'code': 'NOT_FOUND', 'message': 'No matches found!'}}"
      ]
     },
     "execution_count": 216,
     "metadata": {},
     "output_type": "execute_result"
    }
   ],
   "source": [
    "pull"
   ]
  },
  {
   "cell_type": "code",
   "execution_count": null,
   "metadata": {},
   "outputs": [],
   "source": []
  },
  {
   "cell_type": "code",
   "execution_count": null,
   "metadata": {},
   "outputs": [],
   "source": []
  },
  {
   "cell_type": "code",
   "execution_count": null,
   "metadata": {},
   "outputs": [],
   "source": []
  },
  {
   "cell_type": "code",
   "execution_count": null,
   "metadata": {},
   "outputs": [],
   "source": []
  },
  {
   "cell_type": "code",
   "execution_count": null,
   "metadata": {},
   "outputs": [],
   "source": []
  },
  {
   "cell_type": "code",
   "execution_count": null,
   "metadata": {},
   "outputs": [],
   "source": []
  },
  {
   "cell_type": "markdown",
   "metadata": {},
   "source": [
    "# Appendix"
   ]
  },
  {
   "cell_type": "markdown",
   "metadata": {},
   "source": [
    "### Other PDF parsing methods"
   ]
  },
  {
   "cell_type": "code",
   "execution_count": null,
   "metadata": {},
   "outputs": [],
   "source": [
    "# import io\n",
    "# from PyPDF2 import PdfFileReader"
   ]
  },
  {
   "cell_type": "code",
   "execution_count": null,
   "metadata": {},
   "outputs": [],
   "source": [
    "# with open('2021_NewDrugTherapyApprovals_0.pdf', 'rb') as f:\n",
    "#     pdf = pdftotext.PDF(f)"
   ]
  },
  {
   "cell_type": "code",
   "execution_count": null,
   "metadata": {},
   "outputs": [],
   "source": [
    "# print(pdf[10])"
   ]
  },
  {
   "cell_type": "code",
   "execution_count": null,
   "metadata": {},
   "outputs": [],
   "source": [
    "# response_pdf = requests.get('https://www.fda.gov/media/155227/download')\n",
    "# pdf_stream = io.BytesIO(response_pdf.content)\n",
    "# reader = PdfFileReader(pdf_stream)\n",
    "# page = reader.pages[0]\n",
    "# print(page.extractText())"
   ]
  },
  {
   "cell_type": "code",
   "execution_count": null,
   "metadata": {},
   "outputs": [],
   "source": [
    "# response_pdf = requests.get('https://www.fda.gov/media/155227/download')\n",
    "# pdf_stream = io.BytesIO(response_pdf.content)\n",
    "# reader = PdfFileReader(pdf_stream)\n",
    "\n",
    "# for page_n in range(len(reader.pages)):\n",
    "#     page = reader.pages[0]\n",
    "#     page_text = page.extractText()\n",
    "    "
   ]
  }
 ],
 "metadata": {
  "kernelspec": {
   "display_name": "Python 3 (ipykernel)",
   "language": "python",
   "name": "python3"
  },
  "language_info": {
   "codemirror_mode": {
    "name": "ipython",
    "version": 3
   },
   "file_extension": ".py",
   "mimetype": "text/x-python",
   "name": "python",
   "nbconvert_exporter": "python",
   "pygments_lexer": "ipython3",
   "version": "3.9.7"
  },
  "toc": {
   "base_numbering": 1,
   "nav_menu": {},
   "number_sections": true,
   "sideBar": true,
   "skip_h1_title": false,
   "title_cell": "Table of Contents",
   "title_sidebar": "Contents",
   "toc_cell": false,
   "toc_position": {},
   "toc_section_display": true,
   "toc_window_display": false
  }
 },
 "nbformat": 4,
 "nbformat_minor": 4
}
